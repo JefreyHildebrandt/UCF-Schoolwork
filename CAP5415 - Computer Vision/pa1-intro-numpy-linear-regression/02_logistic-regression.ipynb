{
 "cells": [
  {
   "cell_type": "markdown",
   "metadata": {},
   "source": [
    "# Classification with Logistic Regression\n",
    "\n",
    "Welcome to **Part 2** of **PA1**! Here, you'll build a logistic regression classifier images. In particular, your logistic regression algorithm will state whether the given pic is a cat picture or not. \n",
    "\n",
    "<div class=\"alert alert-warning\" markdown=1>**NOTE:** Do **_not_** use loops (`for`/`while`) in your code, unless it's **explicitly** stated to do so.</div>\n",
    "\n",
    "By the end of this assignment, you should have learned to...\n",
    "- build the general architecture of a learning algorithm, i.e.\n",
    "  - initializing parameters\n",
    "  - calculating the cost function and its gradient\n",
    "  - using an optimization algorithm (gradient descent)\n",
    "- Assemble all three functions, above, into a `model` function, in the right order."
   ]
  },
  {
   "cell_type": "markdown",
   "metadata": {},
   "source": [
    "---\n",
    "\n",
    "## 1 - Packages\n",
    "\n",
    "We'll start out by importing all the needed packages for this assignment:\n",
    "- [numpy](www.numpy.org) is the fundamental package for scientific computing with Python.\n",
    "- [h5py](http://www.h5py.org) is a common package to interact with H5 files. We will use that package to read files (datasets).\n",
    "- [matplotlib](http://matplotlib.org) is a famous library to plot graphs in Python.\n",
    "- [PIL](http://www.pythonware.com/products/pil/) and [scipy](https://www.scipy.org/) are needed to testing your model with a custom picture, at the end."
   ]
  },
  {
   "cell_type": "code",
   "execution_count": 285,
   "metadata": {},
   "outputs": [],
   "source": [
    "import numpy as np\n",
    "import matplotlib.pyplot as plt\n",
    "import h5py\n",
    "import scipy\n",
    "from PIL import Image\n",
    "from scipy import ndimage\n",
    "from utils import dataloader\n",
    "\n",
    "%matplotlib inline"
   ]
  },
  {
   "cell_type": "markdown",
   "metadata": {
    "collapsed": true
   },
   "source": [
    "---\n",
    "\n",
    "## 2 - Overview of the Problem\n",
    "\n",
    "**Problem Statement**: You are given a dataset (\"data.h5\") containing:\n",
    "  - `m` training images which are labeled `cat (y=1)` or `non-cat (y=0)`\n",
    "  - `n` test images, which are labeled as `cat` or `non-cat`\n",
    "  - each image has a shape of `(num_px, num_px, 3)` \n",
    "    - 3 specifies the number of color channels (R, G, B)\n",
    "    - note that these images are square `(h, w, 3) = (num_px, num_px, 3)`\n",
    "\n",
    "In this second part of the assignment, you'll be building a simple image classifier which \"recognizes\" cats from non-cats.\n",
    "\n",
    "First, though, we should get familiar with our dataset; let's run the code below."
   ]
  },
  {
   "cell_type": "code",
   "execution_count": 286,
   "metadata": {},
   "outputs": [],
   "source": [
    "# Loading the data (cat/non-cat)\n",
    "train_x_prep, train_y, test_x_prep, test_y, classes = dataloader()"
   ]
  },
  {
   "cell_type": "markdown",
   "metadata": {},
   "source": [
    "We added `_prep` at the end of both datasets (`train` and `test`) – this is because we'll be doing some preprocessing on them. Once we've finished preprocessing, we'll have `train_x` and `test_x`. `train_y` and `test_y` don't need an preprocessing, as they're labels.\n",
    "\n",
    "Each index of `train_x_prep` and `test_x_prep` is an image, represented by an array. Take a peek using `matplotlib` in the next code-cell; **also** consider changing the `idx` to look at other images (this requires re-running the code-cell)."
   ]
  },
  {
   "cell_type": "code",
   "execution_count": 287,
   "metadata": {},
   "outputs": [
    {
     "data": {
      "text/plain": [
       "<matplotlib.image.AxesImage at 0x2330052ff98>"
      ]
     },
     "execution_count": 287,
     "metadata": {},
     "output_type": "execute_result"
    },
    {
     "data": {
      "image/png": "[encoded data removed]",
      "text/plain": [
       "<Figure size 432x288 with 1 Axes>"
      ]
     },
     "metadata": {},
     "output_type": "display_data"
    }
   ],
   "source": [
    "# Example of a picture\n",
    "idx = 19\n",
    "plt.imshow(train_x_prep[idx])"
   ]
  },
  {
   "cell_type": "markdown",
   "metadata": {},
   "source": [
    "<div class=\"alert alert-info\" markdown=1><h2> Exercise 1 </h2></div>\n",
    "\n",
    "Keep an eye out for differing matrix/vector dimensions – this is the root quite a few bugs in machine learning. Tracking these dimensions will likely keep you away from a number of debugging sessions. :)\n",
    "- Set the number of training data, number of test data and image width (or height) from the given data."
   ]
  },
  {
   "cell_type": "code",
   "execution_count": 288,
   "metadata": {
    "scrolled": true
   },
   "outputs": [
    {
     "name": "stdout",
     "output_type": "stream",
     "text": [
      "Number of training examples: m_train = 209\n",
      "Number of testing examples: n_test = 50\n",
      "Image height (or width): num_px = 64\n",
      "---------------------------------------------- \n",
      "Each image has the dimensions of: (64, 64, 3)\n",
      "train_x_prep shape (dims): (209, 64, 64, 3)\n",
      "train_y shape (dims): (1, 209)\n",
      "test_x_prep shape (dims): (50, 64, 64, 3)\n",
      "test_y shape (dims): (1, 50)\n"
     ]
    }
   ],
   "source": [
    "### START CODE HERE ### (~3 lines of code)\n",
    "m_train = len(train_x_prep)\n",
    "n_test = len(test_x_prep)\n",
    "num_px = np.shape(train_x_prep)[1]\n",
    "### END CODE HERE ###\n",
    "\n",
    "\n",
    "print (\"Number of training examples: m_train = \" + str(m_train))\n",
    "print (\"Number of testing examples: n_test = \" + str(n_test))\n",
    "print (\"Image height (or width): num_px = \" + str(num_px))\n",
    "print (\"---------------------------------------------- \")\n",
    "print (\"Each image has the dimensions of: (\" + str(num_px) + \", \" + str(num_px) + \", 3)\")\n",
    "print (\"train_x_prep shape (dims): \" + str(train_x_prep.shape))\n",
    "print (\"train_y shape (dims): \" + str(train_y.shape))\n",
    "print (\"test_x_prep shape (dims): \" + str(test_x_prep.shape))\n",
    "print (\"test_y shape (dims): \" + str(test_y.shape))\n",
    "\n"
   ]
  },
  {
   "cell_type": "markdown",
   "metadata": {},
   "source": [
    "**Expected Output for `m_train`, `n_test` and `num_px`**:\n",
    "```python\n",
    "Number of training examples: m_train = 209\n",
    "Number of testing examples: n_test = 50\n",
    "Height/Width of each image: num_px = 64\n",
    "```"
   ]
  },
  {
   "cell_type": "markdown",
   "metadata": {},
   "source": [
    "For convenience, you should now reshape images of shape `(num_px, num_px, 3)` in a `np.array` of shape `(num_px * num_px * 3, 1)`. After this, our training (and test) data will be a `np.array` where each column represents a flattened image. There should be `m_train` (and `n_test`) columns."
   ]
  },
  {
   "cell_type": "markdown",
   "metadata": {},
   "source": [
    "<div class=\"alert alert-info\" markdown=1><h2> Exercise 2 </h2></div>"
   ]
  },
  {
   "cell_type": "markdown",
   "metadata": {},
   "source": [
    "Reshape the training and test data sets so that images of size `(num_px, num_px, 3)` are flattened into single vectors of shape `(num_px * num_px * 3, 1)`.\n",
    "\n",
    "When you want to flatten a matrix `X` with `X.shape = (a, b, c, d)`, to a matrix: `X_flatten` with dims: `X_flatten.shape = (b * c * d, a)`, you can use:\n",
    "```python\n",
    "X_flat = X.rshape(X.shape[0], -1).T  # X.T is the transpose of X\n",
    "```"
   ]
  },
  {
   "cell_type": "code",
   "execution_count": 289,
   "metadata": {},
   "outputs": [
    {
     "name": "stdout",
     "output_type": "stream",
     "text": [
      "train_x_flat shape: (12288, 209)\n",
      "train_y shape: (1, 209)\n",
      "test_x_flat shape: (12288, 50)\n",
      "test_y shape: (1, 50)\n",
      "sanity check after reshaping: [17 31 56 22 33]\n"
     ]
    }
   ],
   "source": [
    "# Reshape the training and test examples\n",
    "\n",
    "### START CODE HERE ### (~2 lines of code)\n",
    "train_x_flat = train_x_prep.reshape(m_train, -1).T\n",
    "test_x_flat = test_x_prep.reshape(n_test, -1).T\n",
    "### END CODE HERE ###\n",
    "\n",
    "\n",
    "print (\"train_x_flat shape: \" + str(train_x_flat.shape))\n",
    "print (\"train_y shape: \" + str(train_y.shape))\n",
    "print (\"test_x_flat shape: \" + str(test_x_flat.shape))\n",
    "print (\"test_y shape: \" + str(test_y.shape))\n",
    "print (\"sanity check after reshaping: \" + str(train_x_flat[0:5,0]))\n",
    "\n",
    "\n",
    "\n"
   ]
  },
  {
   "cell_type": "markdown",
   "metadata": {},
   "source": [
    "**Expected Output**: \n",
    "```python\n",
    "train_x_flat.shape: (12288, 209)\n",
    "train_y.shape: (1, 209)\n",
    "test_x_flat.shape: (12288, 50)\n",
    "test_y.shape: (1, 50)\n",
    "sanity check after reshaping: [17 31 56 22 33]\n",
    "```"
   ]
  },
  {
   "cell_type": "markdown",
   "metadata": {},
   "source": [
    "Color images are represented as 3D matrices in RGB model where the 3rd dimension represents the channels: red, green, and blue (RGB); because of this, each pixel value in an image is actually a 3-tuple (or a vector with 3 elements). Each entry in the RGB model, can have a value between 0 and 255.\n",
    "\n",
    "A common preprocessing step in machine learning is normalization. A common normalization step can be done by performing the following two lines:\n",
    "1. substract the mean of the whole `np.array` from each example,\n",
    "1. divide each example by the standard deviation of the whole `np.array`\n",
    "\n",
    "However, a convenient trick (an alternative way) is to simple divide each row of the dataset by 255 (the max value of a given pixel channel) – Let's normalize our data by using this technique:"
   ]
  },
  {
   "cell_type": "code",
   "execution_count": 290,
   "metadata": {},
   "outputs": [],
   "source": [
    "train_x = train_x_flat / 255.\n",
    "test_x = test_x_flat / 255."
   ]
  },
  {
   "cell_type": "markdown",
   "metadata": {},
   "source": [
    "<div class=\"alert alert-danger\" markdown=1><p>**What you need to remember:** </p>\n",
    "    <p>Common steps for pre-processing a new dataset are:</p>\n",
    "    <ul>\n",
    "        <li> Figure out the dimensions and shapes of the data (m_train, m_test, num_px, ...) </li>\n",
    "        <li> Reshape the data such that each image sample in the data is now a vector of size (num_px \\* num_px \\* 3, 1)</li>\n",
    "        <li> Normalize the data</li>\n",
    "    </ul>\n",
    "</div>"
   ]
  },
  {
   "cell_type": "markdown",
   "metadata": {},
   "source": [
    "---\n",
    "\n",
    "## 3 - Architecture of this Learning Algorithm\n",
    "\n",
    "Let's finally move on to designing a simple algorithm which can distinguish `cat` containing images from the `non-cat` images.\n",
    "\n",
    "We'll be building a Logistic Regression as we convered in the class. in the following figure, you'll see an overview of the approach: it is a neural network with a single neuron.\n",
    "\n",
    "<img src=\"images/LogRegSummary2.png\" style=\"width: 650px; height: 400px;\">\n",
    "\n",
    "**Let's express the algorithm, mathematically**:\n",
    "\n",
    "For $i^{(th)}$ example $x^{(i)}$:\n",
    "$$z^{(i)} = w^T x^{(i)} + b \\tag{1}$$\n",
    "$$\\hat{y}^{(i)} = a^{(i)} = sigmoid(z^{(i)})\\tag{2}$$ \n",
    "$$ \\mathcal{L}(a^{(i)}, y^{(i)}) =  - y^{(i)}  \\log(a^{(i)}) - (1-y^{(i)} )  \\log(1-a^{(i)})\\tag{3}$$\n",
    "\n",
    "We then compute the cost computing the loss for each training example and than taking the average of those losses:\n",
    "$$ J = \\frac{1}{m} \\sum_{i=1}^m \\mathcal{L}(a^{(i)}, y^{(i)})\\tag{4}$$\n",
    "\n",
    "In the next section, we'll:\n",
    "- first initialize the parameters of our logistic regression model,\n",
    "- then learn the parameters for the model by minimizing the cost as defined above,\n",
    "- use those learned parameters to make predictions (on test data)\n",
    "- analyze the results "
   ]
  },
  {
   "cell_type": "markdown",
   "metadata": {},
   "source": [
    "---\n",
    "\n",
    "## 4 - Building Component Parts of the Final Algorithm\n",
    "\n",
    "Primary steps for building a Neural Network:\n",
    "1. define the model's structure (e.g. the number of input features, number of weights, the bias)\n",
    "1. initialize the model's parameters\n",
    "1. loop:\n",
    "  1. calculate the loss at current iteration with the existing model parameters: $w_i$ and b, (called: forward propagation step)\n",
    "  1. calculate the gradients at the current iteration (called: backward propagation - backprop step)\n",
    "  1. update the parameters: $w_i$ and b (use gradient descent)\n",
    "\n",
    "Typically, you'll first build each of these steps separately, then integrate them into a single `model` function."
   ]
  },
  {
   "cell_type": "markdown",
   "metadata": {},
   "source": [
    "### 4.1 - Helper functions"
   ]
  },
  {
   "cell_type": "markdown",
   "metadata": {},
   "source": [
    "<div class=\"alert alert-info\" markdown=1><h2> Exercise 3 </h2></div>\n",
    "\n",
    "Using your code from the first part of the assignment, \"Intro to Python, featuring `NumPy`\", implement `sigmoid()`. As detailed in the figure above, you'll be computing $sigmoid( w^T x + b)$ to make predictions."
   ]
  },
  {
   "cell_type": "code",
   "execution_count": 291,
   "metadata": {},
   "outputs": [],
   "source": [
    "def sigmoid(z):\n",
    "    \"\"\"\n",
    "    Compute the sigmoid of z\n",
    "\n",
    "    Arguments:\n",
    "    x -- A scalar or numpy array of any size.\n",
    "\n",
    "    Return:\n",
    "    s -- sigmoid(z)\n",
    "    \"\"\"\n",
    "\n",
    "    ### START CODE HERE ### (~1 line of code)\n",
    "    s = np.divide(1, (np.add(1, np.exp(-z))))\n",
    "    ### END CODE HERE ###\n",
    "    \n",
    "    return s"
   ]
  },
  {
   "cell_type": "code",
   "execution_count": 292,
   "metadata": {
    "scrolled": true
   },
   "outputs": [
    {
     "name": "stdout",
     "output_type": "stream",
     "text": [
      "sigmoid(0) = 0.5\n",
      "sigmoid(7.1) = 0.9991755753136017\n"
     ]
    }
   ],
   "source": [
    "print (\"sigmoid(0) = \" + str(sigmoid(0)))\n",
    "print (\"sigmoid(7.1) = \" + str(sigmoid(7.1)))"
   ]
  },
  {
   "cell_type": "markdown",
   "metadata": {},
   "source": [
    "**Expected Output**: \n",
    "```python\n",
    "sigmoid(0) = 0.5\n",
    "sigmoid(7.1) = 0.9991755753136017\n",
    "```"
   ]
  },
  {
   "cell_type": "markdown",
   "metadata": {},
   "source": [
    "### 4.2 - Initializing parameters"
   ]
  },
  {
   "cell_type": "markdown",
   "metadata": {},
   "source": [
    "<div class=\"alert alert-info\" markdown=1><h2> Exercise 4 </h2></div>\n",
    "\n",
    "Implement parameter initialization in the cell below. You have to initialize `w` as a vector of zeros. If you don't know what numpy function to use, look up `np.zeros()` in the Numpy library's documentation."
   ]
  },
  {
   "cell_type": "code",
   "execution_count": 293,
   "metadata": {},
   "outputs": [],
   "source": [
    "def initialize_params_with_zeros(dim):\n",
    "    \"\"\"\n",
    "    This function creates a vector of zeros of shape (dim, 1) for w and initializes b to 0.\n",
    "    \n",
    "    Argument:\n",
    "    dim -- size of the w vector we want (or number of parameters in this case)\n",
    "    \n",
    "    Returns:\n",
    "    w -- initialized vector of shape (dim, 1). Use np.zeros() function to initialize w\n",
    "    b -- initialized scalar (corresponds to the bias). You can set this to zero as initial value.\n",
    "    \"\"\"\n",
    "    \n",
    "    ### START CODE HERE ### (~1 line of code)\n",
    "    w = np.zeros((dim, 1))\n",
    "    b = 0.0\n",
    " \n",
    "    ### END CODE HERE ###\n",
    "\n",
    "    assert(w.shape == (dim, 1))\n",
    "    assert(isinstance(b, float) or isinstance(b, int))\n",
    "    \n",
    "    return w, b"
   ]
  },
  {
   "cell_type": "code",
   "execution_count": 294,
   "metadata": {},
   "outputs": [
    {
     "name": "stdout",
     "output_type": "stream",
     "text": [
      "w = [[0.]\n",
      " [0.]]\n",
      "b = 0.0\n"
     ]
    }
   ],
   "source": [
    "dim = 2\n",
    "w, b = initialize_params_with_zeros(dim)\n",
    "print (\"w = \" + str(w))\n",
    "print (\"b = \" + str(b))"
   ]
  },
  {
   "cell_type": "markdown",
   "metadata": {},
   "source": [
    "**Expected Output**: \n",
    "```python\n",
    "w = [[ 0.]\n",
    " [ 0.]]\n",
    "b = 0.0\n",
    "```\n",
    "\n",
    "Note that, the dimension is set to 2 in the above test case. For image inputs, the dims of w should be: `w.shape = (num_px * num_px * 3, 1)`."
   ]
  },
  {
   "cell_type": "markdown",
   "metadata": {},
   "source": [
    "### 4.3 - Forward and Backward propagation\n",
    "\n",
    "Not that the parameters are already initialized, you can now compute the \"forward\" and \"backward\" propagation steps to learn the parameters (i.e. to update the parameters iteratively).\n",
    "\n",
    "<div class=\"alert alert-info\" markdown=1><h2> Exercise 5 </h2></div>\n",
    "\n",
    "Implement a function `propagate()` which computes the cost function and its gradient.\n",
    "\n",
    "**Hints**:\n",
    "\n",
    "Forward Propagation:\n",
    "- First, save all the input data in a single matrix: $X$\n",
    "- then, compute all the outputs in the matrix form as: $A = \\sigma(w^T X + b) = (a^{(0)}, a^{(1)}, ..., a^{(m-1)}, a^{(m)})$\n",
    "- calculate the cost function: $J = -\\frac{1}{m}\\sum_{i=1}^{m}y^{(i)}\\log(a^{(i)})+(1-y^{(i)})\\log(1-a^{(i)})$\n",
    "\n",
    "Here are the two formulas you will be using: \n",
    "$$ \\frac{\\partial J}{\\partial w} = \\frac{1}{m}X(A-Y)^T\\tag{7}$$\n",
    "$$ \\frac{\\partial J}{\\partial b} = \\frac{1}{m} \\sum_{i=1}^m (a^{(i)}-y^{(i)})\\tag{8}$$\n",
    "Note that in the above equation computing $\\frac{\\partial J}{\\partial w}$, we used matrix multiplication (but not element-wise multiplication)."
   ]
  },
  {
   "cell_type": "code",
   "execution_count": 295,
   "metadata": {},
   "outputs": [],
   "source": [
    "def propagate(w, b, X, Y):\n",
    "    \"\"\"\n",
    "    Implement the cost function and its gradient for the propagation explained above\n",
    "\n",
    "    Arguments:\n",
    "    w -- weights, a numpy array of size (num_px * num_px * 3, 1)\n",
    "    b -- bias, a scalar\n",
    "    X -- data of size (num_px * num_px * 3, number of examples)\n",
    "    Y -- true \"label\" vector (containing 0 if non-cat, 1 if cat) of size (1, number of examples)\n",
    "\n",
    "    Return:\n",
    "    cost -- negative log-likelihood cost for logistic regression\n",
    "    dw -- gradient of the loss with respect to w, thus same shape as w\n",
    "    db -- gradient of the loss with respect to b, thus same shape as b\n",
    "    \n",
    "    Tips:\n",
    "    - Write your code step by step for the propagation\n",
    "    \"\"\"\n",
    "    \n",
    "    m = X.shape[1]\n",
    "    \n",
    "    # FORWARD PROPAGATION (FROM X TO COST)\n",
    "    ### START CODE HERE ### (~2 lines of code)\n",
    "    z = np.dot(w.T, X) + b\n",
    "    A = sigmoid(z)\n",
    "    cost =  -(1/m) * np.sum(np.multiply(Y, np.log(A)) + np.multiply((1-Y), np.log(1-A)))\n",
    "    ### END CODE HERE ###\n",
    "\n",
    "    # BACKWARD PROPAGATION (TO FIND GRAD)\n",
    "    ### START CODE HERE ### (~2 lines of code)\n",
    "    dw = np.dot(X,(A-Y).T)/m\n",
    "    db =  np.sum(A-Y)/m\n",
    "    ### END CODE HERE ###\n",
    "\n",
    "\n",
    "    assert(dw.shape == w.shape)\n",
    "    assert(db.dtype == float)\n",
    "    cost = np.squeeze(cost)\n",
    "    assert(cost.shape == ())\n",
    "    grads = {\"dw\": dw,\n",
    "             \"db\": db}\n",
    "    \n",
    "    return grads, cost"
   ]
  },
  {
   "cell_type": "code",
   "execution_count": 296,
   "metadata": {},
   "outputs": [
    {
     "name": "stdout",
     "output_type": "stream",
     "text": [
      "dw = [[1.31197615]\n",
      " [2.04240828]]\n",
      "db = 0.010575328213226301\n",
      "cost = 4.81113270115668\n"
     ]
    }
   ],
   "source": [
    "w, b, X, Y = np.array([[0.5], [2.]]), 2., np.array([[-1.,2.,-2], [3.,4.,-2.2]]), np.array([[1,0, 1]])\n",
    "grads, cost = propagate(w, b, X, Y)\n",
    "print (\"dw = \" + str(grads[\"dw\"]))\n",
    "print (\"db = \" + str(grads[\"db\"]))\n",
    "print (\"cost = \" + str(cost))\n"
   ]
  },
  {
   "cell_type": "markdown",
   "metadata": {},
   "source": [
    "**Expected Output**:\n",
    "```python\n",
    "dw = [[1.31197615]\n",
    " [2.04240828]]\n",
    "db = 0.010575328213226301\n",
    "cost = 14.43339810347004\n",
    "```"
   ]
  },
  {
   "cell_type": "markdown",
   "metadata": {},
   "source": [
    "### 4.4 - Optimization\n",
    "- Now, you've initialized your parameters, know how to compute the forward and backward steps at a single iteration.\n",
    "- The next task is to update the model parameters iteratively using gradient descent.\n",
    "\n",
    "<div class=\"alert alert-info\" markdown=1><h2> Exercise 6 </h2></div>\n",
    "\n",
    "- Write down the optimization function. The goal is to learn the optimal `w` and `b` values by minimizing the cost function `J`. For a parameter $\\theta$, the update rule is $ \\theta = \\theta - \\alpha \\text{ } d\\theta$, where $\\alpha$ is the learning rate."
   ]
  },
  {
   "cell_type": "code",
   "execution_count": 297,
   "metadata": {},
   "outputs": [],
   "source": [
    "# GRADED FUNCTION: optimize\n",
    "\n",
    "def optimize(w, b, X, Y, num_iters, learning_rate, print_cost=False):\n",
    "    \"\"\"\n",
    "    This function optimizes w and b by running a gradient descent algorithm\n",
    "    \n",
    "    Arguments:\n",
    "    w -- weights, a numpy array of size (num_px * num_px * 3, 1)\n",
    "    b -- bias, a scalar\n",
    "    X -- data of shape (num_px * num_px * 3, number of examples)\n",
    "    Y -- true \"label\" vector (containing 0 if non-cat, 1 if cat), of shape (1, number of examples)\n",
    "    num_iterations -- number of iterations of the optimization loop\n",
    "    learning_rate -- learning rate of the gradient descent update rule\n",
    "    print_cost -- True to print the loss every 100 steps\n",
    "    \n",
    "    Returns:\n",
    "    params -- dictionary containing the weights w and bias b\n",
    "    grads -- dictionary containing the gradients of the weights and bias with respect to the cost function\n",
    "    costs -- list of all the costs computed during the optimization, this will be used to plot the learning curve.\n",
    "    \n",
    "    Tips:\n",
    "    You basically need to write down two steps and iterate through them:\n",
    "        1) Calculate the cost and the gradient for the current parameters. Use propagate().\n",
    "        2) Update the parameters using gradient descent rule for w and b.\n",
    "    \"\"\"\n",
    "    \n",
    "    costs = []\n",
    "    \n",
    "    for i in range(num_iters):\n",
    "        # Cost and gradient calculation (~1-4 lines of code)\n",
    "        ### START CODE HERE ### \n",
    "        grads, cost = propagate(w, b, X, Y)                                   # use a function that you previously implemented here.\n",
    "        ### END CODE HERE ###\n",
    "        \n",
    "        # Retrieve derivatives from grads\n",
    "        dw = grads[\"dw\"]\n",
    "        db = grads[\"db\"]\n",
    "        \n",
    "        # update rule (~2 lines of code)\n",
    "        ### START CODE HERE ###\n",
    "        w -= learning_rate*dw                     # Update the weight with the gradient descent rule. Need to broadcast\n",
    "        b -= learning_rate*db   \n",
    "        ### END CODE HERE ###\n",
    "        \n",
    "        # Record the costs\n",
    "        if i % 100 == 0:\n",
    "            costs.append(cost)\n",
    "        \n",
    "        # Print the cost every 100 training examples\n",
    "        if print_cost and (i % 100 == 0 or i == num_iters - 1):\n",
    "            print (\"Cost after iteration %i: %f\" % (i, cost))\n",
    "    \n",
    "    params = {\"w\": w,\n",
    "              \"b\": b}\n",
    "    \n",
    "    grads = {\"dw\": dw,\n",
    "             \"db\": db}\n",
    "    \n",
    "    return params, grads, costs"
   ]
  },
  {
   "cell_type": "code",
   "execution_count": 298,
   "metadata": {},
   "outputs": [
    {
     "name": "stdout",
     "output_type": "stream",
     "text": [
      "w = [[-0.44605171]\n",
      " [ 0.43326516]]\n",
      "b = 1.8796670598835097\n",
      "dw = [[0.72771995]\n",
      " [1.32830265]]\n",
      "db = 0.2575613824723859\n"
     ]
    }
   ],
   "source": [
    "params, grads, costs = optimize(w, b, X, Y, num_iters=1000, learning_rate=0.0009)\n",
    "\n",
    "print (\"w = \" + str(params[\"w\"]))\n",
    "print (\"b = \" + str(params[\"b\"]))\n",
    "print (\"dw = \" + str(grads[\"dw\"]))\n",
    "print (\"db = \" + str(grads[\"db\"]))\n"
   ]
  },
  {
   "cell_type": "markdown",
   "metadata": {},
   "source": [
    "**Expected Output**: \n",
    "```python\n",
    "w = [[-0.44605171]\n",
    " [ 0.43326516]]\n",
    "b = 1.8796670598835097\n",
    "dw = [[0.72771995]\n",
    " [1.32830265]]\n",
    "db = 0.2575613824723859\n",
    "```"
   ]
  },
  {
   "cell_type": "markdown",
   "metadata": {},
   "source": [
    "<div class=\"alert alert-info\" markdown=1><h2> Exercise 7 </h2></div>\n",
    "\n",
    "The previous function will return the updated `w` and `b`. We can now use `w` and `b` to predict the labels for given input data: `X`. Implement the `predict()` function below. There are two steps to compute predictions:\n",
    "\n",
    "1. Calculate $\\hat{Y} = A = \\sigma(w^T X + b)$\n",
    "1. Threshold the entries of A to 0 (`if activation <= 0.5`) or 1 (`if activation > 0.5`); store the predictions in a `Y_pred` vector. For this exercise, you may use an `if/else` statement in a `for` loop. \n",
    "  - **NOTE:** There's a way to vectorize this! We strongly encourage you to attempt this, as future submissions will only accept vectorization of operations like this."
   ]
  },
  {
   "cell_type": "code",
   "execution_count": 299,
   "metadata": {},
   "outputs": [],
   "source": [
    "# GRADED FUNCTION: predict\n",
    "\n",
    "def predict(w, b, X):\n",
    "    '''\n",
    "    Predict whether the label is 0 or 1 using learned logistic regression parameters (w, b)\n",
    "    \n",
    "    Arguments:\n",
    "    w -- weights, a numpy array of size (num_px * num_px * 3, 1)\n",
    "    b -- bias, a scalar\n",
    "    X -- data of size (num_px * num_px * 3, number of examples)\n",
    "    \n",
    "    Returns:\n",
    "    Y_pred -- a numpy array (vector) containing all predictions (0/1) for the examples in X\n",
    "    '''\n",
    "    \n",
    "    m = X.shape[1]\n",
    "    Y_pred = np.zeros((1, m))\n",
    "    w = w.reshape(X.shape[0], 1)\n",
    "    \n",
    "    # Compute the prediction vector \"A\" containing the probabilities\n",
    "    ### START CODE HERE ### (~1 line of code)\n",
    "    A = sigmoid(np.dot(w.T, X) + b)\n",
    "    ### END CODE HERE ###\n",
    "    \n",
    "    for i in range(A.shape[1]):\n",
    "        # Convert probabilities a[0,i] to actual predictions p[0,i]\n",
    "        ### START CODE HERE ### (~4 lines of code)\n",
    "            pred = 1 if A[0, i] > .5 else 0\n",
    "            Y_pred[0, i] = pred\n",
    "            \n",
    "            \n",
    "        ### END CODE HERE ###\n",
    "    \n",
    "    assert(Y_pred.shape == (1, m))\n",
    "    \n",
    "    return Y_pred"
   ]
  },
  {
   "cell_type": "code",
   "execution_count": 300,
   "metadata": {},
   "outputs": [
    {
     "name": "stdout",
     "output_type": "stream",
     "text": [
      "predictions = [[1. 1. 1.]]\n"
     ]
    }
   ],
   "source": [
    "print(\"predictions = \" + str(predict(w, b, X)))"
   ]
  },
  {
   "cell_type": "markdown",
   "metadata": {},
   "source": [
    "**Expected Output**: \n",
    "- the output has 3 labels for 3 test (toy) samples:\n",
    "```python\n",
    "predictions = [[ 1.  1. 0.]]\n",
    "```\n"
   ]
  },
  {
   "cell_type": "markdown",
   "metadata": {
    "collapsed": true
   },
   "source": [
    "<div class=\"alert alert-danger\" markdown=1><p>**What to remember:**</p>\n",
    "    <p>You've implemented several functions that:</p>\n",
    "    <ul>\n",
    "        <li> Initialize (w,b)</li>\n",
    "        <li> Optimize the loss iteratively to learn parameters (w,b):<ul>\n",
    "            <li> computing the cost and its gradient </li>\n",
    "            <li>updating the parameters using gradient descent</li></ul></li>\n",
    "        <li> Use the learned (w,b) to predict the labels for a given set of examples</li>\n",
    "    </ul>\n",
    "</div>"
   ]
  },
  {
   "cell_type": "markdown",
   "metadata": {},
   "source": [
    "---\n",
    "\n",
    "## 5 - Let's Merge the Functions into One\n",
    "\n",
    "Now, we'll get a feel for the model's overall structure by putting all the individually implemented building blocks together into a single `model` function. (Note that order **_does_** matter.)\n",
    "\n",
    "<div class=\"alert alert-info\" markdown=1><h2> Exercise 8 </h2></div>\n",
    "\n",
    "Implement the `model` function. Use the following notation:\n",
    "- `Y_pred` for your predictions on the testing set\n",
    "- `Y_pred_train` for your predictions on the training set\n",
    "- `w, costs, grads` for the outputs of `optimize()`"
   ]
  },
  {
   "cell_type": "code",
   "execution_count": 301,
   "metadata": {},
   "outputs": [],
   "source": [
    "# GRADED FUNCTION: model\n",
    "def model(X_train, Y_train, X_test, Y_test, num_iters=2000, learning_rate=0.5, print_cost=False):\n",
    "    \"\"\"\n",
    "    Builds the logistic regression model by calling the function you've implemented previously\n",
    "    \n",
    "    Arguments:\n",
    "    X_train -- training set represented by a numpy array of shape (num_px * num_px * 3, m_train)\n",
    "    Y_train -- training labels represented by a numpy array (vector) of shape (1, m_train)\n",
    "    X_test -- test set represented by a numpy array of shape (num_px * num_px * 3, m_test)\n",
    "    Y_test -- test labels represented by a numpy array (vector) of shape (1, m_test)\n",
    "    num_iters -- hyperparameter representing the number of iterations to optimize the parameters\n",
    "    learning_rate -- hyperparameter representing the learning rate used in the update rule of optimize()\n",
    "    print_cost -- Set to true to print the cost every 100 iterations\n",
    "    \n",
    "    Returns:\n",
    "    d -- dictionary containing information about the model.\n",
    "    \"\"\"\n",
    "    \n",
    "    ### START CODE HERE ###\n",
    "    # initialize parameters with zeros (~1 line of code)\n",
    "    w, b = initialize_params_with_zeros(X_train.shape[0])                                                     #use a function here\n",
    "\n",
    "    # Gradient descent (~1 line of code)\n",
    "    parameters, grads, costs = optimize(w, b, X_train, Y_train, num_iters, learning_rate, print_cost=False)                             # use a function here\n",
    "    \n",
    "    # Retrieve parameters w and b from dictionary \"parameters\"\n",
    "    w = parameters[\"w\"]\n",
    "    b = parameters[\"b\"]\n",
    "    \n",
    "    # Predict test/train set examples (≈ 2 lines of code)\n",
    "    Y_pred_test = predict(w, b, X_test)\n",
    "    Y_pred_train = predict(w, b, X_train)\n",
    "\n",
    "    ### END CODE HERE ###\n",
    "\n",
    "    # Print train/test Errors\n",
    "    print(\"\")\n",
    "    print(\"train accuracy: {} %\".format(100 - np.mean(np.abs(Y_pred_train - Y_train)) * 100))\n",
    "    print(\"test accuracy: {} %\".format(100 - np.mean(np.abs(Y_pred_test - Y_test)) * 100))\n",
    "\n",
    "\n",
    "    \n",
    "    d = {\"costs\": costs,\n",
    "         \"Y_pred_test\": Y_pred_test, \n",
    "         \"Y_pred_train\" : Y_pred_train, \n",
    "         \"w\" : w, \n",
    "         \"b\" : b,\n",
    "         \"learning_rate\" : learning_rate,\n",
    "         \"num_iters\": num_iters}\n",
    "    \n",
    "    return d"
   ]
  },
  {
   "cell_type": "markdown",
   "metadata": {},
   "source": [
    "Run the following cell to train your model."
   ]
  },
  {
   "cell_type": "code",
   "execution_count": 302,
   "metadata": {},
   "outputs": [
    {
     "name": "stdout",
     "output_type": "stream",
     "text": [
      "\n",
      "train accuracy: 99.04306220095694 %\n",
      "test accuracy: 70.0 %\n"
     ]
    }
   ],
   "source": [
    "d = model(train_x, train_y, test_x, test_y, num_iters=2000, learning_rate=0.005, print_cost=True)"
   ]
  },
  {
   "cell_type": "markdown",
   "metadata": {},
   "source": [
    "**Expected Output**: \n",
    "```python\n",
    "\n",
    "train accuracy: 99.043062201 %\n",
    "test accuracy: 70.0 %\n",
    "\n",
    "```\n",
    "\n"
   ]
  },
  {
   "cell_type": "markdown",
   "metadata": {
    "collapsed": true
   },
   "source": [
    "**Comment**: Training accuracy is close to 100%. This is a good sanity check: your model is working and has high enough capacity to fit the training data. Test accuracy is 70%. It is actually not bad for this simple model, given the small dataset we used and that logistic regression is a linear classifier. But no worries, you'll build an even better classifier in the next assignment!\n"
   ]
  },
  {
   "cell_type": "code",
   "execution_count": 303,
   "metadata": {},
   "outputs": [
    {
     "name": "stdout",
     "output_type": "stream",
     "text": [
      "y = 0, your model predicted that this is a \"cat\" picture.\n"
     ]
    },
    {
     "data": {
      "image/png": "[encoded data removed]",
      "text/plain": [
       "<Figure size 432x288 with 1 Axes>"
      ]
     },
     "metadata": {},
     "output_type": "display_data"
    }
   ],
   "source": [
    "# Example of a picture that was wrongly classified.\n",
    "index = 5\n",
    "plt.imshow(test_x[:, index].reshape((num_px, num_px, 3)))\n",
    "\n",
    "pred = classes[int(d[\"Y_pred_test\"][0, index])].decode(\"utf-8\")\n",
    "#print(f\"y = {test_y[0, index]}, you predict that it's a '{pred}' picture.\")\n",
    "\n",
    "\n",
    "\n",
    "\n",
    "\n",
    "print (\"y = \" + str(test_y[0, index]) + \", your model predicted that this is a \\\"\" + classes[int(d[\"Y_pred_test\"][0, index])].decode(\"utf-8\") +  \"\\\" picture.\")"
   ]
  },
  {
   "cell_type": "markdown",
   "metadata": {},
   "source": [
    "Let's also plot the cost function and the gradients."
   ]
  },
  {
   "cell_type": "code",
   "execution_count": 304,
   "metadata": {},
   "outputs": [
    {
     "data": {
      "image/png": "[encoded data removed]",
      "text/plain": [
       "<Figure size 432x288 with 1 Axes>"
      ]
     },
     "metadata": {},
     "output_type": "display_data"
    }
   ],
   "source": [
    "# Plot learning curve (with costs)\n",
    "costs = np.squeeze(d['costs'])\n",
    "plt.plot(costs)\n",
    "plt.ylabel('cost')\n",
    "plt.xlabel('iterations (per hundreds)')\n",
    "plt.title(\"Learning rate =\" + str(d[\"learning_rate\"]))\n",
    "plt.show()"
   ]
  },
  {
   "cell_type": "markdown",
   "metadata": {
    "collapsed": true
   },
   "source": [
    "**Interpretation**:\n",
    "You can see the cost decreasing. It shows that the parameters are being learned. However, you see that you could train the model even more on the training set. Try to increase the number of iterations in the cell above and rerun the cells. You might see that the training set accuracy goes up, but the test set accuracy goes down. This is called overfitting. "
   ]
  },
  {
   "cell_type": "markdown",
   "metadata": {},
   "source": [
    "<div class=\"alert alert-success\" markdown=1>Congratulations on building your first image classification model. This assignment has officially completed, **however** we strongly suggest going through the following sections and playing with them to learn further. :)</div>"
   ]
  },
  {
   "cell_type": "markdown",
   "metadata": {},
   "source": [
    "---\n",
    "\n",
    "## 6 - Further analysis (optional/ungraded exercise) ##\n",
    "\n",
    "Let's analyze the model further, and examine possible choices for the learning rate $\\alpha$."
   ]
  },
  {
   "cell_type": "markdown",
   "metadata": {},
   "source": [
    "#### Choice of learning rate ####\n",
    "\n",
    "**Reminder**:\n",
    "In order for Gradient Descent to work you must choose the learning rate wisely. The learning rate $\\alpha$  determines how rapidly we update the parameters. If the learning rate is too large we may \"overshoot\" the optimal value. Similarly, if it is too small we will need too many iterations to converge to the best values. That's why it is crucial to use a well-tuned learning rate.\n",
    "\n",
    "Let's compare the learning curve of our model with several choices of learning rates. Run the cell below. This should take about 1 minute. Feel free also to try different values than the three we have initialized the `learning_rates` variable to contain, and see what happens. "
   ]
  },
  {
   "cell_type": "code",
   "execution_count": null,
   "metadata": {},
   "outputs": [],
   "source": [
    "learning_rates = [0.01, 0.001, 0.0001]\n",
    "models = {}\n",
    "for i in learning_rates:\n",
    "    print (\"learning rate is: \" + str(i))\n",
    "    models[str(i)] = model(train_x, train_y, test_x, test_y, num_iters=1500, learning_rate=i)\n",
    "    print ('\\n' + \"-------------------------------------------------------\" + '\\n')\n",
    "\n",
    "for i in learning_rates:\n",
    "    plt.plot(np.squeeze(models[str(i)][\"costs\"]), label=str(models[str(i)][\"learning_rate\"]))\n",
    "\n",
    "plt.ylabel('cost')\n",
    "plt.xlabel('iterations')\n",
    "\n",
    "legend = plt.legend(loc='upper center', shadow=True)\n",
    "frame = legend.get_frame()\n",
    "frame.set_facecolor('0.90')\n",
    "plt.show()"
   ]
  },
  {
   "cell_type": "markdown",
   "metadata": {},
   "source": [
    "<div class=\"alert alert-danger\" markdown=1><p>**What to take away from this:**</p>\n",
    "<ul>\n",
    "    <li> Different learning rates yield different costs and, inherently, different predictions results.</li>\n",
    "    <li> Large learning rates (e.g. 0.01), may result in costs which oscillate. It may even diverge (though in this assignment using `lr=0.01` still eventually ends up at a good value for the cost). </li>\n",
    "    <li> A lower cost doesn't necessarily mean a better model. This is due to a problem known as \"overfitting,\" which effectively means your model fails to generalize. It's characterized by having a training accuracy which is much higher than nyour testing accuracy. </li>\n",
    "    <li> In deep learning, we usually recommend that you: <ul>\n",
    "        <li> Choose a learning rate which better minimizes the cost function.</li>\n",
    "        <li> If your model overfits, use other techniques to reduce overfitting. (We'll talk about this later in the course.)</li> \n",
    "    </ul></li>\n",
    "</ul>\n",
    "</div>"
   ]
  },
  {
   "cell_type": "markdown",
   "metadata": {
    "collapsed": true
   },
   "source": [
    "---\n",
    "\n",
    "## 7 - Test with your own image (optional/ungraded exercise) ##\n",
    "\n",
    "<div class=\"alert alert-success\" markdown=1>Congratulations on finishing this assignment. You can use your own image and see the output of your model. </div>\n",
    "\n",
    "To do that:\n",
    "1. Copy your desired image into the `images/` directory of this assignment.\n",
    "1. Rename `my_image` in the following code-cell to whatever your image is.\n",
    "1. Run the code and check if the algorithm is right (1 = cat, 0 = non-cat)!"
   ]
  },
  {
   "cell_type": "code",
   "execution_count": null,
   "metadata": {
    "scrolled": false
   },
   "outputs": [],
   "source": [
    "## START CODE HERE ## (PUT YOUR IMAGE NAME) \n",
    "my_image = \"my_image.jpg\"   # change this to the name of your image file \n",
    "## END CODE HERE ##\n",
    "\n",
    "# We preprocess the image to fit your algorithm.\n",
    "fname = \"images/\" + my_image\n",
    "image = np.array(ndimage.imread(fname, flatten=False))\n",
    "my_image = scipy.misc.imresize(image, size=(num_px, num_px)).reshape((1, num_px * num_px * 3)).T\n",
    "my_predicted_image = predict(d[\"w\"], d[\"b\"], my_image)\n",
    "\n",
    "plt.imshow(image)\n",
    "pred = classes[int(np.squeeze(my_predicted_image)),].decode(\"utf-8\")\n",
    "print(\"y = \" + str(np.squeeze(my_predicted_image)) + \", your algorithm predicts a \\\"\" + classes[int(np.squeeze(my_predicted_image)),].decode(\"utf-8\") +  \"\\\" picture.\")"
   ]
  },
  {
   "cell_type": "markdown",
   "metadata": {},
   "source": [
    "<div class=\"alert alert-danger\" markdown=1><p>**What to remember:**</p>\n",
    "    <ol>\n",
    "        <li>Preprocessing data is important.</li>\n",
    "        <li>You implemented each function separately: `initialize()`, `propagate()`, `optimize()`. Then combined them to build `model()`.</li>\n",
    "        <li>Tuning the learning rate (a \"hyperparameter\") can make a big difference to the algorithm. You will see more examples of this later in the course and in a few PAs!</li>\n",
    "    </ol>\n",
    "</div>"
   ]
  },
  {
   "cell_type": "markdown",
   "metadata": {},
   "source": [
    "Finally, if you'd like, we invite you to try different things on this Notebook. Make sure you submit before trying anything. Once you submit, things you can play with include:\n",
    "- Play with the learning rate and the number of iterations\n",
    "- Try different initialization methods and compare the results\n",
    "- Test other preprocessings (center the data, or divide each row by its standard deviation)"
   ]
  },
  {
   "cell_type": "markdown",
   "metadata": {},
   "source": [
    "[ End of Assignment 1 ]"
   ]
  },
  {
   "cell_type": "code",
   "execution_count": null,
   "metadata": {},
   "outputs": [],
   "source": []
  },
  {
   "cell_type": "code",
   "execution_count": null,
   "metadata": {},
   "outputs": [],
   "source": []
  }
 ],
 "metadata": {
  "coursera": {
   "course_slug": "neural-networks-deep-learning",
   "graded_item_id": "XaIWT",
   "launcher_item_id": "zAgPl"
  },
  "kernelspec": {
   "display_name": "Python 3",
   "language": "python",
   "name": "python3"
  },
  "language_info": {
   "codemirror_mode": {
    "name": "ipython",
    "version": 3
   },
   "file_extension": ".py",
   "mimetype": "text/x-python",
   "name": "python",
   "nbconvert_exporter": "python",
   "pygments_lexer": "ipython3",
   "version": "3.7.0"
  }
 },
 "nbformat": 4,
 "nbformat_minor": 2
}
